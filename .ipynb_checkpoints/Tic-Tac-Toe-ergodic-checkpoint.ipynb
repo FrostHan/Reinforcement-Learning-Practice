{
 "cells": [
  {
   "cell_type": "code",
   "execution_count": 125,
   "metadata": {
    "collapsed": true
   },
   "outputs": [],
   "source": [
    "import numpy as np\n",
    "import copy\n",
    "import matplotlib.pyplot as plt\n",
    "import math"
   ]
  },
  {
   "cell_type": "code",
   "execution_count": 126,
   "metadata": {
    "collapsed": true
   },
   "outputs": [],
   "source": [
    "class  ChessBoard:\n",
    "    \n",
    "    def __init__(self):\n",
    "        \n",
    "        self.board = np.zeros([3,3])  # Chess board, where value 1 means occupaid by player 1 , 2 means occupaid by player 2\n",
    "        self.wl = 0\n",
    "\n",
    "    def isEnd(self):\n",
    "        \n",
    "        if np.count_nonzero(self.board)==9 or self.wl>0:\n",
    "            return True\n",
    "        else:\n",
    "            return False\n",
    "        \n",
    "    def canWin(self, posX, posY, player):\n",
    "        \n",
    "        if not self.board[posX,posY] == 0:\n",
    "            raise Exception('This grid is already occupaid')\n",
    "        \n",
    "        \n",
    "        s = copy.deepcopy(self.board)\n",
    "        s[posX,posY] = player\n",
    "        \n",
    "        if player == 1:\n",
    "            if np.array_equal(s[0,:], [1,1,1]) or np.array_equal(s[1,:], [1,1,1]) or np.array_equal(s[2,:], [1,1,1])\\\n",
    "            or np.array_equal(s[:,0], [1,1,1]) or np.array_equal(s[:,1], [1,1,1]) or np.array_equal(s[:,2], [1,1,1])\\\n",
    "            or np.array_equal(s[[0,1,2],[0,1,2]], [1,1,1]) or np.array_equal(s[[2,1,0],[0,1,2]], [1,1,1]):\n",
    "                return 1\n",
    "            else:\n",
    "                return 0\n",
    "            \n",
    "        if player == 2:\n",
    "            if np.array_equal(s[0,:], [2,2,2]) or np.array_equal(s[1,:], [2,2,2]) or np.array_equal(s[2,:], [2,2,2])\\\n",
    "            or np.array_equal(s[:,0], [2,2,2]) or np.array_equal(s[:,1], [2,2,2]) or np.array_equal(s[:,2], [2,2,2])\\\n",
    "            or np.array_equal(s[[0,1,2],[0,1,2]], [2,2,2]) or np.array_equal(s[[2,1,0],[0,1,2]], [2,2,2]):\n",
    "                return 1\n",
    "            else:\n",
    "                return 0\n",
    "            \n",
    "            \n",
    "            \n",
    "            \n",
    "    def play(self, posX, posY, player):\n",
    "        \n",
    "        if not self.board[posX,posY] == 0:\n",
    "            raise Exception('This grid is already occupaid')\n",
    "        \n",
    "        self.board[posX,posY] = player\n",
    "#         print(self.board)\n",
    "        \n",
    "        if np.array_equal(self.board[0,:], [1,1,1]) or np.array_equal(self.board[1,:], [1,1,1]) or np.array_equal(self.board[2,:], [1,1,1])\\\n",
    "        or np.array_equal(self.board[:,0], [1,1,1]) or np.array_equal(self.board[:,1], [1,1,1]) or np.array_equal(self.board[:,2], [1,1,1])\\\n",
    "        or np.array_equal(self.board[[0,1,2],[0,1,2]], [1,1,1]) or np.array_equal(self.board[[2,1,0],[0,1,2]], [1,1,1]):\n",
    "            self.wl = 1\n",
    "        \n",
    "        if np.array_equal(self.board[0,:], [2,2,2]) or np.array_equal(self.board[1,:], [2,2,2]) or np.array_equal(self.board[2,:], [2,2,2])\\\n",
    "        or np.array_equal(self.board[:,0], [2,2,2]) or np.array_equal(self.board[:,1], [2,2,2]) or np.array_equal(self.board[:,2], [2,2,2])\\\n",
    "        or np.array_equal(self.board[[0,1,2],[0,1,2]], [2,2,2]) or np.array_equal(self.board[[2,1,0],[0,1,2]], [2,2,2]):\n",
    "            self.wl = 2\n",
    "\n"
   ]
  },
  {
   "cell_type": "markdown",
   "metadata": {},
   "source": [
    "There are totally $3^9$ different states for the chess board (actually less than this because of the rule). The number is affordable for a computer, thus a ergodic value table is available."
   ]
  },
  {
   "cell_type": "code",
   "execution_count": 153,
   "metadata": {
    "collapsed": true
   },
   "outputs": [],
   "source": [
    "# Policy define (you can modify here):\n",
    "\n",
    "\n",
    "# For training stage\n",
    "\n",
    "# player_1_policy_train = 'random'\n",
    "player_1_policy_train = 'greedy'\n",
    "# player_2_policy_train = 'random'\n",
    "player_2_policy_train = 'greedy'\n",
    "\n",
    "# For practise stage\n",
    "\n",
    "player_1_policy_prac = 'random'\n",
    "# player_1_policy_prac = 'greedy'\n",
    "# player_2_policy_prac = 'random'\n",
    "player_2_policy_prac = 'greedy'"
   ]
  },
  {
   "cell_type": "code",
   "execution_count": 145,
   "metadata": {},
   "outputs": [
    {
     "name": "stderr",
     "output_type": "stream",
     "text": [
      "C:\\ProgramData\\Anaconda3\\lib\\site-packages\\ipykernel_launcher.py:126: RuntimeWarning: invalid value encountered in true_divide\n",
      "C:\\ProgramData\\Anaconda3\\lib\\site-packages\\ipykernel_launcher.py:126: RuntimeWarning: invalid value encountered in less\n",
      "C:\\ProgramData\\Anaconda3\\lib\\site-packages\\ipykernel_launcher.py:64: RuntimeWarning: invalid value encountered in true_divide\n",
      "C:\\ProgramData\\Anaconda3\\lib\\site-packages\\ipykernel_launcher.py:64: RuntimeWarning: invalid value encountered in less\n"
     ]
    }
   ],
   "source": [
    "# Reinforcement Learning by update of value function\n",
    "\n",
    "\n",
    "#################### Training Stage #########################\n",
    "\n",
    "# Parameters\n",
    "alpha = 0.2 # Learning rate\n",
    "N = 1000000 # Total playing count\n",
    "\n",
    "V1 = 0.5 * np.ones([3,3,3,3,3,3,3,3,3]) # Value table, where 0->empty, 1->player1, 2->player2\n",
    "V1_flat = np.reshape(V1,[np.power(3,9)]) # Value table, flatten\n",
    "\n",
    "V2 = 0.5 * np.ones([3,3,3,3,3,3,3,3,3]) # Value table, where 0->empty, 1->player1, 2->player2\n",
    "V2_flat = np.reshape(V2,[np.power(3,9)]) # Value table, flatten\n",
    "\n",
    "winCount1 = 0\n",
    "winCount2 = 0\n",
    "\n",
    "\n",
    "for n in range(N): # each game\n",
    "    \n",
    "    # start a new game\n",
    "    c = ChessBoard()\n",
    "    isFirstTurn = True\n",
    "    \n",
    "    while not c.isEnd(): # each turn\n",
    "        \n",
    "        # Action decision of player 1\n",
    "        \n",
    "        can1Win = 0\n",
    "        \n",
    "        for posX_next in range(3): # if can win then win\n",
    "            for posY_next in range(3):\n",
    "                if c.board[posX_next, posY_next]==0 and c.canWin( posX_next, posY_next, 1 ):\n",
    "                    V1_next = 1\n",
    "                    next_posX = posX_next\n",
    "                    next_posY = posY_next\n",
    "                    can1Win = 1\n",
    "                    V2_next = 0\n",
    "        if can1Win:\n",
    "            winCount1 += 1\n",
    "                    \n",
    "\n",
    "        if player_1_policy_train == 'random':\n",
    "            if not can1Win: #randomly select\n",
    "                tmp = np.argwhere(c.board == 0)\n",
    "                idxP = np.random.randint(np.shape(tmp)[0])\n",
    "                next_posX = tmp[idxP,0]\n",
    "                next_posY = tmp[idxP,1]\n",
    "                V1_next = 0.5\n",
    "                V2_next = 0.5\n",
    "                \n",
    "        if player_1_policy_train == 'greedy':\n",
    "            if not can1Win: #randomly greedy select\n",
    "                tmp = np.argwhere(c.board == 0)\n",
    "                ps = np.zeros(np.shape(tmp)[0])\n",
    "                for i in range(np.shape(tmp)[0]):\n",
    "                    c_t = copy.deepcopy(c)\n",
    "                    next_posX_trial = tmp[i,0]\n",
    "                    next_posY_trial = tmp[i,1]\n",
    "                    c_t.play(next_posX_trial , next_posY_trial, 1)\n",
    "                    idx = int(c_t.board[0,0]*np.power(3,8)+c_t.board[0,1]*np.power(3,7)+c_t.board[0,2]*np.power(3,6)+c_t.board[1,0]*np.power(3,5)+\\\n",
    "                    c_t.board[1,1]*np.power(3,4)+c_t.board[1,2]*np.power(3,3)+c_t.board[2,0]*np.power(3,2)+c_t.board[2,1]*np.power(3,1)+c_t.board[2,2])\n",
    "                    ps[i] = V1_flat[idx] \n",
    "                idxP = np.random.choice(np.shape(tmp)[0],1,p = np.power(ps,10)/np.sum(np.power(ps,10)) )\n",
    "                next_posX = tmp[idxP,0]\n",
    "                next_posY = tmp[idxP,1]\n",
    "            \n",
    "            \n",
    "        if not isFirstTurn:\n",
    "            idx = int(c.board[0,0]*np.power(3,8)+c.board[0,1]*np.power(3,7)+c.board[0,2]*np.power(3,6)+c.board[1,0]*np.power(3,5)+\\\n",
    "            c.board[1,1]*np.power(3,4)+c.board[1,2]*np.power(3,3)+c.board[2,0]*np.power(3,2)+c.board[2,1]*np.power(3,1)+c.board[2,2])\n",
    "            \n",
    "            V1_flat[idx] = V1_flat[idx] + alpha * ( V1_next - V1_flat[idx] )\n",
    "            V2_flat[idx] = V2_flat[idx] + alpha * ( V2_next - V2_flat[idx] )\n",
    "        \n",
    "        c.play(next_posX , next_posY, 1)\n",
    "        \n",
    "        if not isFirstTurn:\n",
    "            if can1Win:\n",
    "                idx_next = int(c.board[0,0]*np.power(3,8)+c.board[0,1]*np.power(3,7)+c.board[0,2]*np.power(3,6)+c.board[1,0]*np.power(3,5)+\\\n",
    "                c.board[1,1]*np.power(3,4)+c.board[1,2]*np.power(3,3)+c.board[2,0]*np.power(3,2)+c.board[2,1]*np.power(3,1)+c.board[2,2])\n",
    "\n",
    "                V1_flat[idx_next] = 1\n",
    "                V2_flat[idx_next] = 0\n",
    "        \n",
    "\n",
    "        \n",
    "        if c.isEnd():\n",
    "            continue\n",
    "        \n",
    "        \n",
    "        #-----------------------------\n",
    "        # Action decision of player 2\n",
    "        \n",
    "        can2Win = 0\n",
    "        \n",
    "        for posX_next in range(3): # if can win then win\n",
    "            for posY_next in range(3):\n",
    "                if c.board[posX_next, posY_next]==0 and c.canWin( posX_next, posY_next, 2 ):\n",
    "                    V2_next = 1\n",
    "                    next_posX = posX_next\n",
    "                    next_posY = posY_next\n",
    "                    can2Win = 1\n",
    "                    V1_next = 0\n",
    "        if can2Win:\n",
    "            winCount2 += 1\n",
    "            \n",
    "        if player_2_policy_train == 'random':\n",
    "            if not can2Win: #randomly select\n",
    "                tmp = np.argwhere(c.board == 0)\n",
    "                idxP = np.random.randint(np.shape(tmp)[0])\n",
    "                next_posX = tmp[idxP,0]\n",
    "                next_posY = tmp[idxP,1]\n",
    "                V1_next = 0.5\n",
    "                V2_next = 0.5\n",
    "                \n",
    "        if player_2_policy_train == 'greedy':\n",
    "            if not can2Win: #randomly greedy select\n",
    "                tmp = np.argwhere(c.board == 0)\n",
    "                ps = np.zeros(np.shape(tmp)[0])\n",
    "                for i in range(np.shape(tmp)[0]):\n",
    "                    c_t = copy.deepcopy(c)\n",
    "                    next_posX_trial = tmp[i,0]\n",
    "                    next_posY_trial = tmp[i,1]\n",
    "                    c_t.play(next_posX_trial , next_posY_trial, 2)\n",
    "                    idx = int(c_t.board[0,0]*np.power(3,8)+c_t.board[0,1]*np.power(3,7)+c_t.board[0,2]*np.power(3,6)+c_t.board[1,0]*np.power(3,5)+\\\n",
    "                    c_t.board[1,1]*np.power(3,4)+c_t.board[1,2]*np.power(3,3)+c_t.board[2,0]*np.power(3,2)+c_t.board[2,1]*np.power(3,1)+c_t.board[2,2])\n",
    "                    ps[i] = V2_flat[idx]\n",
    "                idxP = np.random.choice(np.shape(tmp)[0],1,p = np.power(ps,10)/np.sum(np.power(ps,10)) )\n",
    "                next_posX = tmp[idxP,0]\n",
    "                next_posY = tmp[idxP,1]\n",
    "\n",
    "\n",
    "            \n",
    "        if not isFirstTurn:\n",
    "            idx = int(c.board[0,0]*np.power(3,8)+c.board[0,1]*np.power(3,7)+c.board[0,2]*np.power(3,6)+c.board[1,0]*np.power(3,5)+\\\n",
    "            c.board[1,1]*np.power(3,4)+c.board[1,2]*np.power(3,3)+c.board[2,0]*np.power(3,2)+c.board[2,1]*np.power(3,1)+c.board[2,2])\n",
    "            \n",
    "            V1_flat[idx] = V1_flat[idx] + alpha * ( V1_next - V1_flat[idx] )\n",
    "            V2_flat[idx] = V2_flat[idx] + alpha * ( V2_next - V2_flat[idx] )\n",
    "        \n",
    "        c.play(next_posX , next_posY, 2)\n",
    "        \n",
    "        if not isFirstTurn:\n",
    "            if can2Win:\n",
    "                idx_next = int(c.board[0,0]*np.power(3,8)+c.board[0,1]*np.power(3,7)+c.board[0,2]*np.power(3,6)+c.board[1,0]*np.power(3,5)+\\\n",
    "                c.board[1,1]*np.power(3,4)+c.board[1,2]*np.power(3,3)+c.board[2,0]*np.power(3,2)+c.board[2,1]*np.power(3,1)+c.board[2,2])\n",
    "\n",
    "                V1_flat[idx_next] = 0\n",
    "                V2_flat[idx_next] = 1\n",
    "        \n",
    "        \n",
    "        \n",
    "        \n",
    "        isFirstTurn = False\n",
    "        \n",
    "#     print('One game!')\n",
    "\n",
    "V1 = np.reshape(V1_flat,[3,3,3,3,3,3,3,3,3])\n",
    "V2 = np.reshape(V2_flat,[3,3,3,3,3,3,3,3,3])\n",
    "\n"
   ]
  },
  {
   "cell_type": "code",
   "execution_count": 146,
   "metadata": {},
   "outputs": [
    {
     "name": "stdout",
     "output_type": "stream",
     "text": [
      "Player 1 winning rate:  0.595\n",
      "Player 2 winning rate:  0.194\n",
      "Drawing rate:           0.211\n"
     ]
    }
   ],
   "source": [
    "print('Player 1 winning rate:  %5.3f' % float(winCount1/N))\n",
    "print('Player 2 winning rate:  %5.3f' % float(winCount2/N))\n",
    "print('Drawing rate:           %5.3f' % float(1.0-(winCount1+winCount2)/N))"
   ]
  },
  {
   "cell_type": "code",
   "execution_count": 154,
   "metadata": {},
   "outputs": [
    {
     "name": "stderr",
     "output_type": "stream",
     "text": [
      "C:\\ProgramData\\Anaconda3\\lib\\site-packages\\ipykernel_launcher.py:96: RuntimeWarning: invalid value encountered in true_divide\n",
      "C:\\ProgramData\\Anaconda3\\lib\\site-packages\\ipykernel_launcher.py:96: RuntimeWarning: invalid value encountered in less\n"
     ]
    }
   ],
   "source": [
    "# Reinforcement Learning by update of value function\n",
    "\n",
    "\n",
    "#################### Practice Stage #########################\n",
    "\n",
    "# Parameters\n",
    "alpha = 0.1 # Learning rate\n",
    "N = 1000 # Total playing count\n",
    "\n",
    "\n",
    "winCount1 = 0\n",
    "winCount2 = 0\n",
    "\n",
    "\n",
    "for n in range(N): # each game\n",
    "    \n",
    "    # start a new game\n",
    "    c = ChessBoard()\n",
    "    isFirstTurn = True\n",
    "    \n",
    "    while not c.isEnd(): # each turn\n",
    "        \n",
    "        # Action decision of player 1\n",
    "        \n",
    "        can1Win = 0\n",
    "        \n",
    "        for posX_next in range(3): # if can win then win\n",
    "            for posY_next in range(3):\n",
    "                if c.board[posX_next, posY_next]==0 and c.canWin( posX_next, posY_next, 1 ):\n",
    "                    next_posX = posX_next\n",
    "                    next_posY = posY_next\n",
    "                    can1Win = 1\n",
    "        if can1Win:\n",
    "            winCount1 += 1\n",
    "                    \n",
    "        if player_1_policy_prac == 'random':\n",
    "            if not can1Win: #randomly select\n",
    "                tmp = np.argwhere(c.board == 0)\n",
    "                idxP = np.random.randint(np.shape(tmp)[0])\n",
    "                next_posX = tmp[idxP,0]\n",
    "                next_posY = tmp[idxP,1]\n",
    "                \n",
    "        if player_1_policy_prac == 'greedy':\n",
    "            if not can1Win: #randomly greedy select\n",
    "                tmp = np.argwhere(c.board == 0)\n",
    "                ps = np.zeros(np.shape(tmp)[0])\n",
    "                for i in range(np.shape(tmp)[0]):\n",
    "                    c_t = copy.deepcopy(c)\n",
    "                    next_posX_trial = tmp[i,0]\n",
    "                    next_posY_trial = tmp[i,1]\n",
    "                    c_t.play(next_posX_trial , next_posY_trial, 1)\n",
    "                    idx = int(c_t.board[0,0]*np.power(3,8)+c_t.board[0,1]*np.power(3,7)+c_t.board[0,2]*np.power(3,6)+c_t.board[1,0]*np.power(3,5)+\\\n",
    "                    c_t.board[1,1]*np.power(3,4)+c_t.board[1,2]*np.power(3,3)+c_t.board[2,0]*np.power(3,2)+c_t.board[2,1]*np.power(3,1)+c_t.board[2,2])\n",
    "                    ps[i] = V1_flat[idx] \n",
    "                idxP = np.random.choice(np.shape(tmp)[0],1,p = np.power(ps,10)/np.sum(np.power(ps,10)) )\n",
    "                next_posX = tmp[idxP,0]\n",
    "                next_posY = tmp[idxP,1]\n",
    "        \n",
    "        c.play(next_posX , next_posY, 1)\n",
    "        \n",
    "        if c.isEnd():\n",
    "            continue\n",
    "        \n",
    "        \n",
    "        #-----------------------------\n",
    "        # Action decision of player 2\n",
    "        \n",
    "        can2Win = 0\n",
    "        \n",
    "        for posX_next in range(3):    # if can win then win\n",
    "            for posY_next in range(3):\n",
    "                if c.board[posX_next, posY_next]==0 and c.canWin( posX_next, posY_next, 2 ):\n",
    "                    next_posX = posX_next\n",
    "                    next_posY = posY_next\n",
    "                    can2Win = 1\n",
    "        if can2Win:\n",
    "            winCount2 += 1\n",
    "\n",
    "        if player_2_policy_prac == 'random':\n",
    "            if not can2Win: #randomly select\n",
    "                tmp = np.argwhere(c.board == 0)\n",
    "                idxP = np.random.randint(np.shape(tmp)[0])\n",
    "                next_posX = tmp[idxP,0]\n",
    "                next_posY = tmp[idxP,1]\n",
    "        \n",
    "        if player_2_policy_prac == 'greedy':\n",
    "            if not can2Win: #randomly greedy select\n",
    "                tmp = np.argwhere(c.board == 0)\n",
    "                ps = np.zeros(np.shape(tmp)[0])\n",
    "                for i in range(np.shape(tmp)[0]):\n",
    "                    c_t = copy.deepcopy(c)\n",
    "                    next_posX_trial = tmp[i,0]\n",
    "                    next_posY_trial = tmp[i,1]\n",
    "                    c_t.play(next_posX_trial , next_posY_trial, 2)\n",
    "                    idx = int(c_t.board[0,0]*np.power(3,8)+c_t.board[0,1]*np.power(3,7)+c_t.board[0,2]*np.power(3,6)+c_t.board[1,0]*np.power(3,5)+\\\n",
    "                    c_t.board[1,1]*np.power(3,4)+c_t.board[1,2]*np.power(3,3)+c_t.board[2,0]*np.power(3,2)+c_t.board[2,1]*np.power(3,1)+c_t.board[2,2])\n",
    "                    ps[i] = V2_flat[idx]\n",
    "                idxP = np.random.choice(np.shape(tmp)[0],1,p = np.power(ps,10)/np.sum(np.power(ps,10)) )\n",
    "                next_posX = tmp[idxP,0]\n",
    "                next_posY = tmp[idxP,1]\n",
    "\n",
    "        c.play(next_posX , next_posY, 2)\n",
    "    \n",
    "        isFirstTurn = False\n",
    "        \n",
    "#     print('One game!')\n",
    "\n",
    "\n"
   ]
  },
  {
   "cell_type": "code",
   "execution_count": 155,
   "metadata": {},
   "outputs": [
    {
     "name": "stdout",
     "output_type": "stream",
     "text": [
      "Player 1 winning rate:  0.206\n",
      "Player 2 winning rate:  0.633\n",
      "Drawing rate:           0.161\n"
     ]
    }
   ],
   "source": [
    "print('Player 1 winning rate:  %5.3f' % float(winCount1/N))\n",
    "print('Player 2 winning rate:  %5.3f' % float(winCount2/N))\n",
    "print('Drawing rate:           %5.3f' % float(1.0-(winCount1+winCount2)/N))"
   ]
  },
  {
   "cell_type": "code",
   "execution_count": null,
   "metadata": {
    "collapsed": true
   },
   "outputs": [],
   "source": []
  },
  {
   "cell_type": "code",
   "execution_count": null,
   "metadata": {
    "collapsed": true
   },
   "outputs": [],
   "source": []
  },
  {
   "cell_type": "code",
   "execution_count": null,
   "metadata": {
    "collapsed": true
   },
   "outputs": [],
   "source": []
  },
  {
   "cell_type": "code",
   "execution_count": null,
   "metadata": {
    "collapsed": true
   },
   "outputs": [],
   "source": []
  },
  {
   "cell_type": "code",
   "execution_count": null,
   "metadata": {
    "collapsed": true
   },
   "outputs": [],
   "source": []
  },
  {
   "cell_type": "code",
   "execution_count": null,
   "metadata": {
    "collapsed": true
   },
   "outputs": [],
   "source": []
  },
  {
   "cell_type": "code",
   "execution_count": null,
   "metadata": {
    "collapsed": true
   },
   "outputs": [],
   "source": []
  },
  {
   "cell_type": "code",
   "execution_count": null,
   "metadata": {
    "collapsed": true
   },
   "outputs": [],
   "source": []
  },
  {
   "cell_type": "code",
   "execution_count": null,
   "metadata": {
    "collapsed": true
   },
   "outputs": [],
   "source": []
  },
  {
   "cell_type": "code",
   "execution_count": null,
   "metadata": {
    "collapsed": true
   },
   "outputs": [],
   "source": []
  },
  {
   "cell_type": "code",
   "execution_count": null,
   "metadata": {
    "collapsed": true
   },
   "outputs": [],
   "source": []
  },
  {
   "cell_type": "code",
   "execution_count": null,
   "metadata": {
    "collapsed": true
   },
   "outputs": [],
   "source": []
  },
  {
   "cell_type": "code",
   "execution_count": null,
   "metadata": {
    "collapsed": true
   },
   "outputs": [],
   "source": []
  }
 ],
 "metadata": {
  "kernelspec": {
   "display_name": "Python 3",
   "language": "python",
   "name": "python3"
  },
  "language_info": {
   "codemirror_mode": {
    "name": "ipython",
    "version": 3
   },
   "file_extension": ".py",
   "mimetype": "text/x-python",
   "name": "python",
   "nbconvert_exporter": "python",
   "pygments_lexer": "ipython3",
   "version": "3.5.4"
  }
 },
 "nbformat": 4,
 "nbformat_minor": 2
}
