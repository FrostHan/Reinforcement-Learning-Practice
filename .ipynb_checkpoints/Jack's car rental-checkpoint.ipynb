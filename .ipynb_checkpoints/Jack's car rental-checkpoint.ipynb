{
 "cells": [
  {
   "cell_type": "code",
   "execution_count": 2,
   "metadata": {
    "collapsed": true
   },
   "outputs": [],
   "source": [
    "import numpy as np\n",
    "import matplotlib.pyplot as plt"
   ]
  },
  {
   "cell_type": "markdown",
   "metadata": {},
   "source": [
    "## Jack's Car Rental Problem\n",
    "\n",
    "\n",
    "Jack manages two locations for a nationwide car rental company. Each day, some number of customers arrive at each location to rent cars. If Jack has a car available, he rents it out and is credited \\$10 by the national company. If he is out of cars at that location, then the business is lost. Cars become available for renting the day after they are returned. To help ensure that cars are available where they are needed, Jack can move them between the two locations overnight, at a cost of \\$2 per car moved. We assume that the number of cars requested and returned at each location are Poisson random variables, meaning that the probability that the number is $n$ is $\\frac{\\lambda^n}{n!}e^{-\\lambda}$, where $\\lambda $ is the expected number. Suppose $\\lambda $ is 3 and 4 for rental requests at the first and second locations and 3 and 2 for returns. To simplify the problem slightly, we assume that there can be no more than 20 cars at each location (any additional cars are returned to the nationwide company, and thus disappear from the problem) and a maximum of five cars can be moved from one location to the other in one night. We take the discount rate to be and formulate this as a continuing finite MDP, where the time steps are days, the state is the number of cars at each location at the end of the day, and the actions are the net numbers of cars moved between the two locations overnight. "
   ]
  },
  {
   "cell_type": "code",
   "execution_count": null,
   "metadata": {
    "scrolled": false
   },
   "outputs": [
    {
     "name": "stdout",
     "output_type": "stream",
     "text": [
      "i:0, j:2,total_prob:0.999979 ,V:19.013152 \r"
     ]
    }
   ],
   "source": [
    "def prob(n_rental_i, n_return_i, n_rental_j, n_return_j):    \n",
    "    prb = np.double(np.exp(-12.0) * pow(3.0,n_rental_i) * pow(3.0,n_return_i) * pow(4.0,n_rental_j)\\\n",
    "    * pow(2.0,n_return_j)) / np.double(np.math.factorial(n_rental_i)) / np.double(np.math.factorial(n_return_i))\\\n",
    "    / np.double(np.math.factorial(n_rental_j)) / np.double(np.math.factorial(n_return_j))\n",
    "    return prb\n",
    "\n",
    "\n",
    "N = 21 # most number of cars in each place (plus 1)\n",
    "V = np.zeros([N,N]) \n",
    "\n",
    "P = np.zeros([N,N]) # policy matrix, the value of which is how many cars to move from 2nd place to 1st place (num_car_1, num_car_2)\n",
    "R = np.zeros([N,N]) # reward of one step(day), including cost\n",
    "\n",
    "Pi = np.zeros([N,N,10]) # policy matrix in process\n",
    "Vi = np.zeros([N,N,10])\n",
    "\n",
    "gamma = 0.9 # discount factor\n",
    "\n",
    "theta = 0.1 # error threshold\n",
    "\n",
    "\n",
    "counter_whole = 0\n",
    "policy_stable = 0\n",
    "\n",
    "for k in range(5):\n",
    "    \n",
    "    #---------------------Policy Evaluation---------------------    \n",
    "    delta = theta + 1.0 # intialization\n",
    "    counter = 0\n",
    "    while delta > theta:\n",
    "        delta = 0\n",
    "        for i in range(N):\n",
    "            for j in range(N):\n",
    "                tmp = 0\n",
    "                total_proba_tmp = 0\n",
    "                v = V[i,j]\n",
    "                for n_return_i in range(15): \n",
    "                    for n_return_j in range(15):\n",
    "                        for n_rental_i in range(15):\n",
    "                            for n_rental_j in range(15):\n",
    "                                n_move = P[i,j]\n",
    "                                ip = n_return_i + i + n_move - n_rental_i\n",
    "                                jp = n_return_j + j - n_move - n_rental_j\n",
    "                                \n",
    "                                if ip > N-1:\n",
    "                                    ip_com = N-1 # the rebundant cars going to the national wide company\n",
    "                                elif n_rental_i > i:\n",
    "                                    ip_com = max(n_move + n_return_i,0) # if the all cars have been rent\n",
    "                                    if ip_com > N-1:\n",
    "                                        ip_com = N-1 # the rebundant cars going to the national wide company\n",
    "                                else:\n",
    "                                    ip_com = ip\n",
    "                                    \n",
    "                                if jp > N-1:\n",
    "                                    jp_com = N-1 # the rebundant cars going to the national wide company\n",
    "                                elif n_rental_j > j:\n",
    "                                    jp_com = max(-n_move + n_return_j,0) # if the all cars have been rent\n",
    "                                    if jp_com > N-1:\n",
    "                                        jp_com = N-1 # the rebundant cars going to the national wide company\n",
    "                                else:\n",
    "                                    jp_com = jp      \n",
    "                                    \n",
    "#                                 if i ==0 and j==0:\n",
    "#                                      print(i,j,ip_com,jp_com,n_rental_i, int(n_return_i), int(n_rental_j), int(n_return_j))\n",
    "                                n_rental_i_com = min(i,n_rental_i)\n",
    "                                n_rental_j_com = min(j,n_rental_j) \n",
    "        \n",
    "                                pb = prob(n_rental_i, n_return_i, n_rental_j, n_return_j)\n",
    "                                tmp += pb * (10.0*(n_rental_i_com + n_rental_j_com) - np.abs(2.0 * n_move))  # expected reward\n",
    "                                tmp += pb * gamma * V[int(ip_com),int(jp_com)] # next step value \n",
    "                                total_proba_tmp += pb\n",
    "                                    \n",
    "                delta = max(delta,abs(v-tmp))\n",
    "                V[i,j] = tmp\n",
    "                print('i:%d, j:%d,total_prob:%f ,V:%f'%(i,j,total_proba_tmp ,tmp),'\\r',end=\"\")\n",
    "        counter += 1\n",
    "        print('\\n policy evaluation iteration:%d'%counter,'\\n',end=\"\")\n",
    "\n",
    "    \n",
    "    #---------------------Policy Improvement---------------------\n",
    "    while not policy_stable:\n",
    "        policy_stable = 1\n",
    "        for i in range(N):\n",
    "            for j in range(N):\n",
    "                b = P[i,j]\n",
    "                n_move_range = np.linspace(-i,j,i+j+1)\n",
    "                tmp_move_max = 0\n",
    "                n_move_best = 0\n",
    "                for n_move in n_move_range:\n",
    "                    n_move = int(n_move)\n",
    "                    tmp_move = 0\n",
    "                    \n",
    "                    for n_return_i in range(15): \n",
    "                        for n_return_j in range(15):\n",
    "                            for n_rental_i in range(15):\n",
    "                                for n_rental_j in range(15):\n",
    "                                    \n",
    "\n",
    "                                    ip = n_return_i + i + n_move - n_rental_i\n",
    "                                    jp = n_return_j + j - n_move - n_rental_j\n",
    "\n",
    "                                    if ip > N-1:\n",
    "                                        ip_com = N-1 # the rebundant cars going to the national wide company\n",
    "                                    elif n_rental_i >  i:\n",
    "                                        ip_com = max(n_move + n_return_i, 0) # if the all cars have been rent\n",
    "                                        if ip_com > N-1:\n",
    "                                            ip_com = N-1 # the rebundant cars going to the national wide company\n",
    "                                    else:\n",
    "                                        ip_com = ip\n",
    "\n",
    "                                    if jp > N-1:\n",
    "                                        jp_com = N-1 # the rebundant cars going to the national wide company\n",
    "                                    elif n_rental_j > j:\n",
    "                                        jp_com = max(-n_move + n_return_j, 0) # if the all cars have been rent\n",
    "                                        if jp_com > N-1:\n",
    "                                            jp_com = N-1 # the rebundant cars going to the national wide company\n",
    "                                    else:\n",
    "                                        jp_com = jp\n",
    "\n",
    "                                    n_rental_i_com = min(i,n_rental_i)\n",
    "                                    n_rental_j_com = min(j,n_rental_j)\n",
    "\n",
    "                                    pb = prob(n_rental_i, n_return_i, n_rental_j, n_return_j)\n",
    "                                    tmp_move += pb * (10.0*(n_rental_i_com + n_rental_j_com) - np.abs(2.0 * n_move))  # expected reward\n",
    "                                    tmp_move += pb * gamma * V[int(ip_com),int(jp_com)] # next step value\n",
    "\n",
    "                    if tmp_move > tmp_move_max:\n",
    "                        n_move_best = n_move                    \n",
    "                    tmp_move_max = max(tmp_move_max,tmp_move)\n",
    "\n",
    "                        \n",
    "                P[i,j] = n_move_best\n",
    "                \n",
    "                if not b==P[i,j]:\n",
    "                    policy_stable = 0\n",
    "    Vi[:,:,counter_whole] = V\n",
    "    Pi[:,:,counter_whole] = P\n",
    "    counter_whole += 1\n",
    "    \n",
    "    print('\\n-------Iteration:%d'%counter_whole,'----------\\n',end=\"\")"
   ]
  },
  {
   "cell_type": "code",
   "execution_count": 46,
   "metadata": {},
   "outputs": [
    {
     "data": {
      "image/png": "[encoded data removed]",
      "text/plain": [
       "<matplotlib.figure.Figure at 0x2428aea7908>"
      ]
     },
     "metadata": {},
     "output_type": "display_data"
    },
    {
     "data": {
      "image/png": "[encoded data removed]",
      "text/plain": [
       "<matplotlib.figure.Figure at 0x2428b165f98>"
      ]
     },
     "metadata": {},
     "output_type": "display_data"
    }
   ],
   "source": [
    "f, ((ax1, ax2), (ax3, ax4)) = plt.subplots(2, 2, sharex='col', sharey='row')\n",
    "ax1.pcolor(Pi[:,:,0])\n",
    "ax2.pcolor(Pi[:,:,1])\n",
    "ax3.pcolor(Pi[:,:,2])\n",
    "ax4.pcolor(Pi[:,:,3])\n",
    "\n",
    "plt.figure()\n",
    "plt.pcolor(P)\n",
    "plt.colorbar()\n",
    "\n",
    "plt.show()\n",
    "\n"
   ]
  },
  {
   "cell_type": "code",
   "execution_count": 47,
   "metadata": {},
   "outputs": [
    {
     "data": {
      "image/png": "[encoded data removed]",
      "text/plain": [
       "<matplotlib.figure.Figure at 0x2428ae53358>"
      ]
     },
     "metadata": {},
     "output_type": "display_data"
    }
   ],
   "source": [
    "plt.pcolor(V)\n",
    "plt.colorbar()\n",
    "plt.show()"
   ]
  },
  {
   "cell_type": "code",
   "execution_count": null,
   "metadata": {
    "collapsed": true
   },
   "outputs": [],
   "source": []
  },
  {
   "cell_type": "code",
   "execution_count": null,
   "metadata": {
    "collapsed": true
   },
   "outputs": [],
   "source": []
  },
  {
   "cell_type": "code",
   "execution_count": null,
   "metadata": {},
   "outputs": [],
   "source": []
  },
  {
   "cell_type": "code",
   "execution_count": null,
   "metadata": {},
   "outputs": [],
   "source": []
  },
  {
   "cell_type": "code",
   "execution_count": null,
   "metadata": {},
   "outputs": [],
   "source": []
  },
  {
   "cell_type": "code",
   "execution_count": null,
   "metadata": {},
   "outputs": [],
   "source": []
  },
  {
   "cell_type": "code",
   "execution_count": null,
   "metadata": {},
   "outputs": [],
   "source": []
  },
  {
   "cell_type": "code",
   "execution_count": null,
   "metadata": {
    "collapsed": true
   },
   "outputs": [],
   "source": []
  },
  {
   "cell_type": "code",
   "execution_count": null,
   "metadata": {
    "collapsed": true
   },
   "outputs": [],
   "source": []
  }
 ],
 "metadata": {
  "kernelspec": {
   "display_name": "Python 3",
   "language": "python",
   "name": "python3"
  },
  "language_info": {
   "codemirror_mode": {
    "name": "ipython",
    "version": 3
   },
   "file_extension": ".py",
   "mimetype": "text/x-python",
   "name": "python",
   "nbconvert_exporter": "python",
   "pygments_lexer": "ipython3",
   "version": "3.6.1"
  }
 },
 "nbformat": 4,
 "nbformat_minor": 2
}
